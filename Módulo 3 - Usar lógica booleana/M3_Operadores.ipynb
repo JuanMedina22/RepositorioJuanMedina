{
 "cells": [
  {
   "cell_type": "markdown",
   "metadata": {},
   "source": [
    "# Advertencia de asteroides grandes y rápidos que entren en la atmósfera\n",
    "\n",
    "Crear un programa que advierta si entran asteroides de más de 25 m de tamaño a velocidades de 25 km/s o más en la atmósfera y también si se perciben rayos de luz de los mismos."
   ]
  },
  {
   "cell_type": "code",
   "execution_count": 26,
   "metadata": {},
   "outputs": [
    {
     "name": "stdout",
     "output_type": "stream",
     "text": [
      "Se detectaron rastros de luz de un asteroide en la atmósfera, tome precauciones\n"
     ]
    }
   ],
   "source": [
    "TamAst = 40\n",
    "VelAst = 24\n",
    "\n",
    "if TamAst >= 25 and VelAst > 25:\n",
    "    print(\"Se detectaron rastros de luz de un asteroide en la atmósfera\")\n",
    "    print(\"Alerta, un gran asteroide se aproxima a una gran velocidad en a la tierra\")\n",
    "\n",
    "elif TamAst >= 25 and VelAst >= 20 <= 24:\n",
    "    print(\"Se detectaron rastros de luz de un asteroide en la atmósfera, tome precauciones\")\n",
    "\n",
    "else:\n",
    "    print(\"No se han detectado asteroides en la atmósfera de la tierra\")"
   ]
  }
 ],
 "metadata": {
  "interpreter": {
   "hash": "0c272624f27c7584f133db164db8cfa4ae077b007c36b4c60dab2d8e63bf8e22"
  },
  "kernelspec": {
   "display_name": "Python 3.10.2 64-bit",
   "language": "python",
   "name": "python3"
  },
  "language_info": {
   "codemirror_mode": {
    "name": "ipython",
    "version": 3
   },
   "file_extension": ".py",
   "mimetype": "text/x-python",
   "name": "python",
   "nbconvert_exporter": "python",
   "pygments_lexer": "ipython3",
   "version": "3.10.2"
  },
  "orig_nbformat": 4
 },
 "nbformat": 4,
 "nbformat_minor": 2
}
