{
 "cells": [
  {
   "cell_type": "markdown",
   "metadata": {},
   "source": [
    "# ADVERTENCIAS DE ASTEROIDES\n",
    "\n",
    "Imprimir una advertencia si un asteroide se acerca a la tierra si tiene una velocidad mayor a 25 km/h"
   ]
  },
  {
   "cell_type": "code",
   "execution_count": 12,
   "metadata": {},
   "outputs": [
    {
     "name": "stdout",
     "output_type": "stream",
     "text": [
      "Advertencia de impacto, extreme precauciones\n"
     ]
    }
   ],
   "source": [
    "asteroide = 49 \n",
    "\n",
    "if asteroide > 25:\n",
    "\n",
    "    print('Advertencia de impacto, extreme precauciones')\n",
    "    \n",
    "else:\n",
    "    print('Todo está en orden')"
   ]
  },
  {
   "cell_type": "markdown",
   "metadata": {},
   "source": [
    "# ADVERTENCIA DE ASTEROIDES EN LA ATMÓSFERA\n",
    "\n",
    "Crear un código de alerta para buscar asteroides en la atmósfera que tengan una velocidad igual o mayor a 20 km/s "
   ]
  },
  {
   "cell_type": "code",
   "execution_count": 17,
   "metadata": {},
   "outputs": [
    {
     "name": "stdout",
     "output_type": "stream",
     "text": [
      "No se han detectado rastros de luz de asteroides en la atmósfera\n"
     ]
    }
   ],
   "source": [
    "VelAsteroide = 19 #km/s\n",
    "\n",
    "if VelAsteroide == 20:\n",
    "\n",
    "    print(\"¡Advertencia! Se detectaron rastros de luz de un asteroide en la atmósfera, extreme precauciones\")\n",
    "\n",
    "elif VelAsteroide > 20:\n",
    "\n",
    "    print(\"¡Advertencia! Se detectaron rastros de luz de un asteroide en la atmósfera, extreme precauciones\")\n",
    "\n",
    "else:\n",
    "\n",
    "    print(\"No se han detectado rastros de luz de asteroides en la atmósfera\")\n"
   ]
  }
 ],
 "metadata": {
  "interpreter": {
   "hash": "0c272624f27c7584f133db164db8cfa4ae077b007c36b4c60dab2d8e63bf8e22"
  },
  "kernelspec": {
   "display_name": "Python 3.10.2 64-bit",
   "language": "python",
   "name": "python3"
  },
  "language_info": {
   "codemirror_mode": {
    "name": "ipython",
    "version": 3
   },
   "file_extension": ".py",
   "mimetype": "text/x-python",
   "name": "python",
   "nbconvert_exporter": "python",
   "pygments_lexer": "ipython3",
   "version": "3.10.2"
  },
  "orig_nbformat": 4
 },
 "nbformat": 4,
 "nbformat_minor": 2
}
