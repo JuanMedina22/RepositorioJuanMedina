{
 "cells": [
  {
   "cell_type": "markdown",
   "metadata": {},
   "source": [
    "# Fechas\n",
    "\n",
    " Las fechas generalmente se usan para indicar cuando se hicieron copias de seguridad, para no perderse y para medir el tiempo que un código tarda en correr"
   ]
  },
  {
   "cell_type": "code",
   "execution_count": 6,
   "metadata": {},
   "outputs": [
    {
     "name": "stdout",
     "output_type": "stream",
     "text": [
      "2022-02-11\n",
      "Today's date is:2022-02-11\n"
     ]
    }
   ],
   "source": [
    "from datetime import date                       #DATE es un módulo \n",
    "\n",
    "print(date.today())                             #date.today() Nos da la fecha de hoy \n",
    "print(\"Today's date is:\" + str(date.today()))   #str()        Nos permite cambiar el tipo de dato de la fecha, en este caso lo pasa a un valor string "
   ]
  },
  {
   "cell_type": "markdown",
   "metadata": {},
   "source": [
    "# Conversion de unidades\n",
    "\n",
    "En este caso se convertirán los valores de años luz en parsecs"
   ]
  },
  {
   "cell_type": "code",
   "execution_count": 13,
   "metadata": {},
   "outputs": [
    {
     "name": "stdout",
     "output_type": "stream",
     "text": [
      "11parsec, is 35.877159999999996 lightyears\n"
     ]
    }
   ],
   "source": [
    "parsec     = 11                 # 1parsec = 3.26156 años luz\n",
    "lightyears = parsec*3.26156\n",
    "\n",
    "print(str(parsec) + \"parsec, is \" + str(lightyears) + \" lightyears\")    #En este caso, el comando str() permitió cambiar valores tipo\n",
    "                                                                        # flotante e int a un tipo texto\n"
   ]
  }
 ],
 "metadata": {
  "interpreter": {
   "hash": "0c272624f27c7584f133db164db8cfa4ae077b007c36b4c60dab2d8e63bf8e22"
  },
  "kernelspec": {
   "display_name": "Python 3.10.2 64-bit",
   "language": "python",
   "name": "python3"
  },
  "language_info": {
   "codemirror_mode": {
    "name": "ipython",
    "version": 3
   },
   "file_extension": ".py",
   "mimetype": "text/x-python",
   "name": "python",
   "nbconvert_exporter": "python",
   "pygments_lexer": "ipython3",
   "version": "3.10.2"
  },
  "orig_nbformat": 4
 },
 "nbformat": 4,
 "nbformat_minor": 2
}
