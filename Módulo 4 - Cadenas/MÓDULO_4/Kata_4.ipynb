{
 "cells": [
  {
   "cell_type": "markdown",
   "metadata": {},
   "source": [
    "## EJERCICIO 1: TRANSFORMACIÓN DE CADENAS\n",
    "\n",
    "1. Dividir el texto en cada oración para trabajar con su contenido\n",
    "2. Definir palabras clave para determinar los hechos\n",
    "3. Crear un bucle que imprima datos de la luna que se relacionen con las palabras clave\n",
    "4. Actualizar el bucle para cambiar C a Celsius\n"
   ]
  }
 ],
 "metadata": {
  "language_info": {
   "name": "python"
  },
  "orig_nbformat": 4
 },
 "nbformat": 4,
 "nbformat_minor": 2
}
